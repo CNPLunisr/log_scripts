{
 "cells": [
  {
   "cell_type": "code",
   "execution_count": 48,
   "metadata": {},
   "outputs": [],
   "source": [
    "import pandas as pd\n",
    "import numpy as np\n",
    "import os\n",
    "import glob"
   ]
  },
  {
   "cell_type": "code",
   "execution_count": 49,
   "metadata": {},
   "outputs": [],
   "source": [
    "os.chdir('C:/Users/CNPL/Desktop/ANT_logs')"
   ]
  },
  {
   "cell_type": "code",
   "execution_count": 58,
   "metadata": {},
   "outputs": [
    {
     "name": "stdout",
     "output_type": "stream",
     "text": [
      "['10-Flanker_A.log', '10-Flanker_B.log', '11-Flanker_A.log', '11-Flanker_B.log', '12-Flanker_A.log', '12-Flanker_B.log', '13-Flanker_A.log', '13-Flanker_B.log', '14-Flanker_A.log', '14-Flanker_B.log', '15-Flanker_A.log', '15-Flanker_B.log', '16-Flanker_A.log', '16-Flanker_B.log', '17-Flanker_A.log', '17-Flanker_B.log', '18-Flanker_A.log', '18-Flanker_B.log', '19-Flanker_A.log', '19-Flanker_B.log', '20-Flanker_A.log', '20-Flanker_B.log', '21-Flanker_A.log', '21-Flanker_B.log', '22-Flanker_A.log', '22-Flanker_B.log', '23-Flanker_A.log', '23-Flanker_B.log', '24-Flanker_A.log', '24-Flanker_B.log', '25-Flanker_A.log', '25-Flanker_B.log', '26-Flanker_A.log', '26-Flanker_B.log', '27-Flanker_A.log', '27-Flanker_B.log', '28-Flanker_A.log', '28-Flanker_B.log', '29-Flanker_A.log', '29-Flanker_B.log', '30-Flanker_A.log', '30-Flanker_B.log', '31-Flanker_A.log', '31-Flanker_B.log', '32-Flanker_A.log', '32-Flanker_B.log', '33-Flanker_A.log', '33-Flanker_B.log', '34-Flanker_A.log', '34-Flanker_B.log', '35-Flanker_A.log', '35-Flanker_B.log', '36-Flanker_A.log', '36-Flanker_B.log', '37-Flanker_A.log', '37-Flanker_B.log', '38-Flanker_A.log', '38-Flanker_B.log', '39-Flanker_A.log', '39-Flanker_B.log', '40-Flanker_A.log', '40-Flanker_B.log', '41-Flanker_A.log', '41-Flanker_B.log', '42-Flanker_A.log', '42-Flanker_B.log', '43-Flanker_A.log', '43-Flanker_B.log']\n"
     ]
    }
   ],
   "source": [
    "file_list = [f for f in os.listdir() if os.path.isfile(f)]\n",
    "print(file_list)"
   ]
  },
  {
   "cell_type": "code",
   "execution_count": 59,
   "metadata": {},
   "outputs": [],
   "source": [
    "for filename in file_list:\n",
    "    newfile = filename.replace('.log','')\n",
    "    db = pd.read_csv(filename, sep = '\\t', header = 2)\n",
    "    db[['Code','Condition']] = db['Code'].str.split('_', expand = True)\n",
    "    y = db[db['Trial'] == 'Code'].index[0]\n",
    "    z = db[(db['Condition'] == 'SC') | (db['Condition'] == 'NC')].index[0]\n",
    "    db = db[z:y]\n",
    "    db.to_csv(f'0{newfile}.txt', sep = '\\t', index = False)"
   ]
  },
  {
   "cell_type": "code",
   "execution_count": null,
   "metadata": {},
   "outputs": [],
   "source": []
  },
  {
   "cell_type": "code",
   "execution_count": 62,
   "metadata": {},
   "outputs": [
    {
     "name": "stdout",
     "output_type": "stream",
     "text": [
      "['001-Flanker_A.txt', '001-Flanker_B.txt', '002-Flanker_A.txt', '002-Flanker_B.txt', '003-Flanker_A.txt', '003-Flanker_B.txt', '004-Flanker_A.txt', '004-Flanker_B.txt', '005-Flanker_A.txt', '005-Flanker_B.txt', '006-Flanker_A.txt', '006-Flanker_B.txt', '007-Flanker_A.txt', '007-Flanker_B.txt', '008-Flanker_A.txt', '008-Flanker_B.txt', '009-Flanker_A.txt', '009-Flanker_B.txt', '010-Flanker_A.txt', '010-Flanker_B.txt', '011-Flanker_A.txt', '011-Flanker_B.txt', '012-Flanker_A.txt', '012-Flanker_B.txt', '013-Flanker_A.txt', '013-Flanker_B.txt', '014-Flanker_A.txt', '014-Flanker_B.txt', '015-Flanker_A.txt', '015-Flanker_B.txt', '016-Flanker_A.txt', '016-Flanker_B.txt', '017-Flanker_A.txt', '017-Flanker_B.txt', '018-Flanker_A.txt', '018-Flanker_B.txt', '019-Flanker_A.txt', '019-Flanker_B.txt', '020-Flanker_A.txt', '020-Flanker_B.txt', '021-Flanker_A.txt', '021-Flanker_B.txt', '022-Flanker_A.txt', '022-Flanker_B.txt', '023-Flanker_A.txt', '023-Flanker_B.txt', '024-Flanker_A.txt', '024-Flanker_B.txt', '025-Flanker_A.txt', '025-Flanker_B.txt', '026-Flanker_A.txt', '026-Flanker_B.txt', '027-Flanker_A.txt', '027-Flanker_B.txt', '028-Flanker_A.txt', '028-Flanker_B.txt', '029-Flanker_A.txt', '029-Flanker_B.txt', '030-Flanker_A.txt', '030-Flanker_B.txt', '031-Flanker_A.txt', '031-Flanker_B.txt', '032-Flanker_A.txt', '032-Flanker_B.txt', '033-Flanker_A.txt', '033-Flanker_B.txt', '034-Flanker_A.txt', '034-Flanker_B.txt', '035-Flanker_A.txt', '035-Flanker_B.txt', '036-Flanker_A.txt', '036-Flanker_B.txt', '037-Flanker_A.txt', '037-Flanker_B.txt', '038-Flanker_A.txt', '038-Flanker_B.txt', '039-Flanker_A.txt', '039-Flanker_B.txt', '040-Flanker_A.txt', '040-Flanker_B.txt', '041-Flanker_A.txt', '041-Flanker_B.txt', '042-Flanker_A.txt', '042-Flanker_B.txt', '043-Flanker_A.txt', '043-Flanker_B.txt']\n"
     ]
    }
   ],
   "source": [
    "file_list = [f for f in os.listdir() if os.path.isfile(f)]\n",
    "print(file_list)"
   ]
  },
  {
   "cell_type": "code",
   "execution_count": 63,
   "metadata": {},
   "outputs": [],
   "source": [
    "for filename in file_list:\n",
    "    newfile = filename.replace('.txt','')\n",
    "    db = pd.read_csv(filename, sep = '\\t')\n",
    "    db['TimeSec'] = db['Time']/10000\n",
    "    filter_NC = (db['Condition'] == 'NC')\n",
    "    filter_CC = (db['Condition'] == 'CC')\n",
    "    filter_DC = (db['Condition'] == 'DC')\n",
    "    filter_SC = (db['Condition'] == 'SC')\n",
    "    filter_NI = (db['Condition'] == 'NI')\n",
    "    filter_CI = (db['Condition'] == 'CI')\n",
    "    filter_DI = (db['Condition'] == 'DI')\n",
    "    filter_SI = (db['Condition'] == 'SI')\n",
    "    filter_NN = (db['Condition'] == 'NN')\n",
    "    filter_CN = (db['Condition'] == 'CN')\n",
    "    filter_DN = (db['Condition'] == 'DN')\n",
    "    filter_SN = (db['Condition'] == 'SN')\n",
    "    \n",
    "    filters = [(filter_NC,'NC'),(filter_CC,'CC'),(filter_DC,'DC'),(filter_SC,'SC'),(filter_NI,'NI'),(filter_CI,'CI'),(filter_DI,'DI'),(filter_SI,'SI'),(filter_NN,'NN'),(filter_CN,'CN'),(filter_DN,'DN'),(filter_SN,'SN')]\n",
    "\n",
    "    \n",
    "    for x,n in (filters):\n",
    "        db_filt = db.loc[x]\n",
    "        db_filt = db_filt['TimeSec']\n",
    "        db_filt.to_csv(f\"{newfile}_{n}.txt\", index = False, header = False)\n",
    "\n",
    "    \n"
   ]
  }
 ],
 "metadata": {
  "kernelspec": {
   "display_name": "Python 3",
   "language": "python",
   "name": "python3"
  },
  "language_info": {
   "codemirror_mode": {
    "name": "ipython",
    "version": 3
   },
   "file_extension": ".py",
   "mimetype": "text/x-python",
   "name": "python",
   "nbconvert_exporter": "python",
   "pygments_lexer": "ipython3",
   "version": "3.8.5"
  }
 },
 "nbformat": 4,
 "nbformat_minor": 4
}
