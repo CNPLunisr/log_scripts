{
 "cells": [
  {
   "cell_type": "code",
   "execution_count": 28,
   "metadata": {},
   "outputs": [],
   "source": [
    "import pandas as pd\n",
    "import numpy as np\n",
    "import os\n",
    "import glob"
   ]
  },
  {
   "cell_type": "code",
   "execution_count": 35,
   "metadata": {},
   "outputs": [],
   "source": [
    "os.chdir('H:/PCS_Switch/switching_logs/logs/mono/ita')"
   ]
  },
  {
   "cell_type": "code",
   "execution_count": 36,
   "metadata": {},
   "outputs": [
    {
     "name": "stdout",
     "output_type": "stream",
     "text": [
      "['1-ITA.log', '10-ITA.log', '11-ITA.log', '12-ITA.log', '13-ITA.log', '14-ITA.log', '15-ITA.log', '16-ITA.log', '17-ITA.log', '18-ITA.log', '19-ITA.log', '2-ITA.log', '20-ITA.log', '21-ITA.log', '22-ITA.log', '23-ITA.log', '24-ITA.log', '25-ITA.log', '26-ITA.log', '27-ITA.log', '28-ITA.log', '29-ITA.log', '3-ITA.log', '30-ITA.log', '31-ITA.log', '32-ITA.log', '33-ITA.log', '34-ITA.log', '35-ITA.log', '36-ITA.log', '4-ITA.log', '5-ITA.log', '6-ITA.log', '7-ITA.log', '8-ITA.log', '9-ITA.log']\n"
     ]
    }
   ],
   "source": [
    "file_list = [f for f in os.listdir() if os.path.isfile(f)]\n",
    "print(file_list)"
   ]
  },
  {
   "cell_type": "code",
   "execution_count": 37,
   "metadata": {},
   "outputs": [],
   "source": [
    "for filename in file_list:\n",
    "    newfile = filename.replace('.log','')\n",
    "    newfile = newfile.replace('-','_')\n",
    "    db = pd.read_csv(filename, sep = ';', header = 2)\n",
    "    z = db[(db['Event Type'] == 'Pulse')].index[0]\n",
    "    db = db[z:-13]\n",
    "    db.reset_index(inplace = True)\n",
    "    db[\"TimeSec\"] = db[\"Time\"] / 10000\n",
    "    first_pulse = db.iloc[0,14]\n",
    "    db['TimePulse'] = db['TimeSec'] - first_pulse\n",
    "    filter_ITA_Stay = db['Code'].str.contains('ITA,Stay')\n",
    "    ITA_Stay = db.loc[filter_ITA_Stay,'TimePulse']\n",
    "    ITA_Stay.to_csv(f\"{newfile}_stay.txt\", index = False, header = False)"
   ]
  },
  {
   "cell_type": "markdown",
   "metadata": {},
   "source": [
    "---"
   ]
  },
  {
   "cell_type": "code",
   "execution_count": 59,
   "metadata": {},
   "outputs": [],
   "source": [
    "os.chdir('H:/PCS_Switch/switching_logs/logs/mono/eng')"
   ]
  },
  {
   "cell_type": "code",
   "execution_count": 62,
   "metadata": {},
   "outputs": [
    {
     "name": "stdout",
     "output_type": "stream",
     "text": [
      "['1-ENG.log', '10-ENG.log', '11-ENG.log', '12-ENG.log', '13-ENG.log', '14-ENG.log', '15-ENG.log', '16-ENG.log', '17-ENG.log', '18-ENG.log', '19-ENG.log', '2-ENG.log', '20-ENG.log', '21-ENG.log', '22-ENG.log', '23-ENG.log', '24-ENG.log', '25-ENG.log', '26-ENG.log', '27-ENG.log', '28-ENG.log', '29-ENG.log', '3-ENG.log', '30-ENG.log', '31-ENG.log', '32-ENG.log', '33-ENG.log', '34-ENG.log', '35-ENG.log', '36-ENG.log', '4-ENG.log', '5-ENG.log', '6-ENG.log', '7-ENG.log', '8-ENG.log', '9-ENG.log']\n"
     ]
    }
   ],
   "source": [
    "file_list = [f for f in os.listdir() if os.path.isfile(f)]\n",
    "print(file_list)"
   ]
  },
  {
   "cell_type": "code",
   "execution_count": 63,
   "metadata": {},
   "outputs": [],
   "source": [
    "for filename in file_list:\n",
    "    newfile = filename.replace('.log','')\n",
    "    newfile = newfile.replace('-','_')\n",
    "    db = pd.read_csv(filename, sep = ';', header = 2)\n",
    "    z = db[(db['Event Type'] == 'Pulse')].index[0]\n",
    "    db = db[z:-13]\n",
    "    db.reset_index(inplace = True)\n",
    "    db[\"TimeSec\"] = db[\"Time\"] / 10000\n",
    "    first_pulse = db.iloc[0,14]\n",
    "    db['TimePulse'] = db['TimeSec'] - first_pulse\n",
    "    filter_ENG_Stay = db['Code'].str.contains('ENG,Stay')\n",
    "    ENG_Stay = db.loc[filter_ENG_Stay,'TimePulse']\n",
    "    ENG_Stay.to_csv(f\"{newfile}_stay.txt\", index = False, header = False)"
   ]
  }
 ],
 "metadata": {
  "kernelspec": {
   "display_name": "Python 3",
   "language": "python",
   "name": "python3"
  },
  "language_info": {
   "codemirror_mode": {
    "name": "ipython",
    "version": 3
   },
   "file_extension": ".py",
   "mimetype": "text/x-python",
   "name": "python",
   "nbconvert_exporter": "python",
   "pygments_lexer": "ipython3",
   "version": "3.8.5"
  }
 },
 "nbformat": 4,
 "nbformat_minor": 4
}
