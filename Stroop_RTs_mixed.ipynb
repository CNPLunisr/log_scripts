{
 "cells": [
  {
   "cell_type": "markdown",
   "metadata": {},
   "source": [
    "Script per estrarre i tempi di reazione e concatenarli in un unico file per analisi mixed model"
   ]
  },
  {
   "cell_type": "code",
   "execution_count": 1,
   "metadata": {},
   "outputs": [],
   "source": [
    "import pandas as pd\n",
    "import numpy as np\n",
    "import os\n",
    "import glob"
   ]
  },
  {
   "cell_type": "code",
   "execution_count": 2,
   "metadata": {},
   "outputs": [],
   "source": [
    "os.chdir('C:/Users/CNPL/Desktop/stroop_logs')"
   ]
  },
  {
   "cell_type": "code",
   "execution_count": 5,
   "metadata": {},
   "outputs": [
    {
     "name": "stdout",
     "output_type": "stream",
     "text": [
      "['10-text_to_stroop_A.log', '10-text_to_stroop_B.log', '11-text_to_stroop_A.log', '11-text_to_stroop_B.log', '12-text_to_stroop_A.log', '12-text_to_stroop_B.log', '13-text_to_stroop_A.log', '13-text_to_stroop_B.log', '14-text_to_stroop_A.log', '14-text_to_stroop_B.log', '15-text_to_stroop_A.log', '15-text_to_stroop_B.log', '16-text_to_stroop_A.log', '16-text_to_stroop_B.log', '17-text_to_stroop_A.log', '17-text_to_stroop_B.log', '18-text_to_stroop_A.log', '18-text_to_stroop_B.log', '19-text_to_stroop_A.log', '19-text_to_stroop_B.log', '20-text_to_stroop_A.log', '20-text_to_stroop_B.log', '21-text_to_stroop_A.log', '21-text_to_stroop_B.log', '22-text_to_stroop_A.log', '22-text_to_stroop_B.log', '23-text_to_stroop_A.log', '23-text_to_stroop_B.log', '24-text_to_stroop_A.log', '24-text_to_stroop_B.log', '25-text_to_stroop_A.log', '25-text_to_stroop_B.log', '26-text_to_stroop_A.log', '26-text_to_stroop_B.log', '27-text_to_stroop_A.log', '27-text_to_stroop_B.log', '28-text_to_stroop_A.log', '28-text_to_stroop_B.log', '29-text_to_stroop_A.log', '29-text_to_stroop_B.log', '30-text_to_stroop_A.log', '30-text_to_stroop_B.log', '31-text_to_stroop_A.log', '31-text_to_stroop_B.log', '32-text_to_stroop_A.log', '32-text_to_stroop_B.log', '33-text_to_stroop_A.log', '33-text_to_stroop_B.log', '34-text_to_stroop_A.log', '34-text_to_stroop_B.log', '35-text_to_stroop_A.log', '35-text_to_stroop_B.log', '36-text_to_stroop_A.log', '36-text_to_stroop_B.log', '37-text_to_stroop_A.log', '37-text_to_stroop_B.log', '38-text_to_stroop_A.log', '38-text_to_stroop_B.log', '39-text_to_stroop_A.log', '39-text_to_stroop_B.log', '40-text_to_stroop_A.log', '40-text_to_stroop_B.log', '41-text_to_stroop_A.log', '41-text_to_stroop_B.log', '42-text_to_stroop_A.log', '42-text_to_stroop_B.log', '43-text_to_stroop_A.log', '43-text_to_stroop_B.log']\n"
     ]
    }
   ],
   "source": [
    "file_list = [f for f in os.listdir() if os.path.isfile(f)]\n",
    "print(file_list)"
   ]
  },
  {
   "cell_type": "code",
   "execution_count": 6,
   "metadata": {},
   "outputs": [],
   "source": [
    "for filename in file_list:\n",
    "    newfile = filename.replace('.log','')\n",
    "    db = pd.read_csv(filename, sep = '\\t', header = 2)\n",
    "    db.to_csv(f'0{newfile}.txt', sep = '\\t', index = False)"
   ]
  },
  {
   "cell_type": "markdown",
   "metadata": {},
   "source": [
    "------------"
   ]
  },
  {
   "cell_type": "code",
   "execution_count": 7,
   "metadata": {},
   "outputs": [
    {
     "name": "stdout",
     "output_type": "stream",
     "text": [
      "['001-text_to_stroop_A.txt', '001-text_to_stroop_B.txt', '002-text_to_stroop_A.txt', '002-text_to_stroop_B.txt', '003-text_to_stroop_A.txt', '003-text_to_stroop_B.txt', '004-text_to_stroop_A.txt', '004-text_to_stroop_B.txt', '005-text_to_stroop_A.txt', '005-text_to_stroop_B.txt', '006-text_to_stroop_A.txt', '006-text_to_stroop_B.txt', '007-text_to_stroop_A.txt', '007-text_to_stroop_B.txt', '008-text_to_stroop_A.txt', '008-text_to_stroop_B.txt', '009-text_to_stroop_A.txt', '009-text_to_stroop_B.txt', '010-text_to_stroop_A.txt', '010-text_to_stroop_B.txt', '011-text_to_stroop_A.txt', '011-text_to_stroop_B.txt', '012-text_to_stroop_A.txt', '012-text_to_stroop_B.txt', '013-text_to_stroop_A.txt', '013-text_to_stroop_B.txt', '014-text_to_stroop_A.txt', '014-text_to_stroop_B.txt', '015-text_to_stroop_A.txt', '015-text_to_stroop_B.txt', '016-text_to_stroop_A.txt', '016-text_to_stroop_B.txt', '017-text_to_stroop_A.txt', '017-text_to_stroop_B.txt', '018-text_to_stroop_A.txt', '018-text_to_stroop_B.txt', '019-text_to_stroop_A.txt', '019-text_to_stroop_B.txt', '020-text_to_stroop_A.txt', '020-text_to_stroop_B.txt', '021-text_to_stroop_A.txt', '021-text_to_stroop_B.txt', '022-text_to_stroop_A.txt', '022-text_to_stroop_B.txt', '023-text_to_stroop_A.txt', '023-text_to_stroop_B.txt', '024-text_to_stroop_A.txt', '024-text_to_stroop_B.txt', '025-text_to_stroop_A.txt', '025-text_to_stroop_B.txt', '026-text_to_stroop_A.txt', '026-text_to_stroop_B.txt', '027-text_to_stroop_A.txt', '027-text_to_stroop_B.txt', '028-text_to_stroop_A.txt', '028-text_to_stroop_B.txt', '029-text_to_stroop_A.txt', '029-text_to_stroop_B.txt', '030-text_to_stroop_A.txt', '030-text_to_stroop_B.txt', '031-text_to_stroop_A.txt', '031-text_to_stroop_B.txt', '032-text_to_stroop_A.txt', '032-text_to_stroop_B.txt', '033-text_to_stroop_A.txt', '033-text_to_stroop_B.txt', '034-text_to_stroop_A.txt', '034-text_to_stroop_B.txt', '035-text_to_stroop_A.txt', '035-text_to_stroop_B.txt', '036-text_to_stroop_A.txt', '036-text_to_stroop_B.txt', '037-text_to_stroop_A.txt', '037-text_to_stroop_B.txt', '038-text_to_stroop_A.txt', '038-text_to_stroop_B.txt', '039-text_to_stroop_A.txt', '039-text_to_stroop_B.txt', '040-text_to_stroop_A.txt', '040-text_to_stroop_B.txt', '041-text_to_stroop_A.txt', '041-text_to_stroop_B.txt', '042-text_to_stroop_A.txt', '042-text_to_stroop_B.txt', '043-text_to_stroop_A.txt', '043-text_to_stroop_B.txt']\n"
     ]
    }
   ],
   "source": [
    "file_list = [f for f in os.listdir() if os.path.isfile(f)]\n",
    "print(file_list)"
   ]
  },
  {
   "cell_type": "code",
   "execution_count": 8,
   "metadata": {},
   "outputs": [],
   "source": [
    "logs = []\n",
    "for filename in file_list:\n",
    "    newfile = filename.replace('.txt','')\n",
    "    db = pd.read_csv(filename, sep = '\\t')\n",
    "    db['TimeSec'] = db['Time']/10000\n",
    "    filter = db['Code'].str.contains('neutral') | db['Code'].str.contains('congruent') | db['Code'].str.contains('incongruent') | db['Event Type'].str.contains('Response')\n",
    "    db = db.loc[filter]\n",
    "    db[['Code','Condition']] = db['Code'].str.split(',', expand = True)\n",
    "    db.head()\n",
    "    db['RTs'] = None\n",
    "    for x in range(len(db)):\n",
    "        if db.iloc[x,14] == 'neutral' or db.iloc[x,14] == 'congruent' or db.iloc[x,14] == 'incongruent':\n",
    "            db.iloc[x,15] = db.iloc[x + 1,13] - db.iloc[x,13]\n",
    "    db_final = db[['Subject','Stim Type','Condition','RTs']]\n",
    "    db_final = db_final.dropna()\n",
    "    db_final.to_csv(f\"{newfile}.txt\", index = False, header = False)\n",
    "    logs.append(db_final)"
   ]
  },
  {
   "cell_type": "code",
   "execution_count": 9,
   "metadata": {},
   "outputs": [],
   "source": [
    "final = pd.concat(logs)\n",
    "\n",
    "index_db = final.index"
   ]
  },
  {
   "cell_type": "code",
   "execution_count": 10,
   "metadata": {},
   "outputs": [],
   "source": [
    "run = np.array(['A','B'])\n",
    "run = np.repeat(run, [108,108], axis = 0)\n",
    "run = np.tile(run, 43)\n",
    "run = pd.Series(run, index = index_db)\n",
    "\n",
    "final['Run'] = run\n"
   ]
  },
  {
   "cell_type": "code",
   "execution_count": 11,
   "metadata": {},
   "outputs": [
    {
     "data": {
      "text/plain": [
       "9288"
      ]
     },
     "execution_count": 11,
     "metadata": {},
     "output_type": "execute_result"
    }
   ],
   "source": [
    "len(final)"
   ]
  },
  {
   "cell_type": "code",
   "execution_count": 12,
   "metadata": {},
   "outputs": [],
   "source": [
    "final.to_csv('logs.txt', index = False)"
   ]
  },
  {
   "cell_type": "code",
   "execution_count": null,
   "metadata": {},
   "outputs": [],
   "source": []
  }
 ],
 "metadata": {
  "kernelspec": {
   "display_name": "Python 3",
   "language": "python",
   "name": "python3"
  },
  "language_info": {
   "codemirror_mode": {
    "name": "ipython",
    "version": 3
   },
   "file_extension": ".py",
   "mimetype": "text/x-python",
   "name": "python",
   "nbconvert_exporter": "python",
   "pygments_lexer": "ipython3",
   "version": "3.8.5"
  }
 },
 "nbformat": 4,
 "nbformat_minor": 4
}
