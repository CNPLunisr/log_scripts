{
 "cells": [
  {
   "cell_type": "code",
   "execution_count": 1,
   "metadata": {},
   "outputs": [],
   "source": [
    "import pandas as pd\n",
    "import numpy as np\n",
    "import os\n",
    "import glob"
   ]
  },
  {
   "cell_type": "code",
   "execution_count": 2,
   "metadata": {},
   "outputs": [],
   "source": [
    "os.chdir('H:/PCS_Switch/switching_logs/logs/switch')"
   ]
  },
  {
   "cell_type": "code",
   "execution_count": 8,
   "metadata": {},
   "outputs": [
    {
     "name": "stdout",
     "output_type": "stream",
     "text": [
      "['1-switch_81_A.log', '1-switch_81_B.log', '10-switch_81_A.log', '10-switch_81_B.log', '11-switch_81_A.log', '11-switch_81_B.log', '12-switch_81_A.log', '12-switch_81_B.log', '13-switch_81_A.log', '13-switch_81_B.log', '14-switch_81_A.log', '14-switch_81_B.log', '15-switch_81_A.log', '15-switch_81_B.log', '16-switch_81_A.log', '16-switch_81_B.log', '17-switch_81_A.log', '17-switch_81_B.log', '18-switch_81_A.log', '18-switch_81_B.log', '19-switch_81_A.log', '19-switch_81_B.log', '2-switch_81_A.log', '2-switch_81_B.log', '20-switch_81_A.log', '20-switch_81_B.log', '21-switch_81_A.log', '21-switch_81_B.log', '22-switch_81_A.log', '22-switch_81_B.log', '23-switch_81_A.log', '23-switch_81_B.log', '24-switch_81_A.log', '24-switch_81_B.log', '25-switch_81_A.log', '25-switch_81_B.log', '26-switch_81_A.log', '26-switch_81_B.log', '27-switch_81_A.log', '27-switch_81_B.log', '28-switch_81_A.log', '28-switch_81_B.log', '29-switch_81_A.log', '29-switch_81_B.log', '3-switch_81_A.log', '3-switch_81_B.log', '30-switch_81_A.log', '30-switch_81_B.log', '31-switch_81_A.log', '31-switch_81_B.log', '32-switch_81_A.log', '32-switch_81_B.log', '33-switch_81_A.log', '33-switch_81_B.log', '34-switch_81_A.log', '34-switch_81_B.log', '35-switch_81_A.log', '35-switch_81_B.log', '36-switch_81_A.log', '36-switch_81_B.log', '4-switch_81_A.log', '4-switch_81_B.log', '5-switch_81_A.log', '5-switch_81_B.log', '6-switch_81_A.log', '6-switch_81_B.log', '7-switch_81_A.log', '7-switch_81_B.log', '8-switch_81_A.log', '8-switch_81_B.log', '9-switch_81_A.log', '9-switch_81_B.log']\n"
     ]
    }
   ],
   "source": [
    "file_list = [f for f in os.listdir() if os.path.isfile(f)]\n",
    "print(file_list)"
   ]
  },
  {
   "cell_type": "code",
   "execution_count": 5,
   "metadata": {},
   "outputs": [
    {
     "data": {
      "text/html": [
       "<div>\n",
       "<style scoped>\n",
       "    .dataframe tbody tr th:only-of-type {\n",
       "        vertical-align: middle;\n",
       "    }\n",
       "\n",
       "    .dataframe tbody tr th {\n",
       "        vertical-align: top;\n",
       "    }\n",
       "\n",
       "    .dataframe thead th {\n",
       "        text-align: right;\n",
       "    }\n",
       "</style>\n",
       "<table border=\"1\" class=\"dataframe\">\n",
       "  <thead>\n",
       "    <tr style=\"text-align: right;\">\n",
       "      <th></th>\n",
       "      <th>Subject</th>\n",
       "      <th>Trial</th>\n",
       "      <th>Event Type</th>\n",
       "      <th>Code</th>\n",
       "      <th>Time</th>\n",
       "      <th>TTime</th>\n",
       "      <th>Uncertainty</th>\n",
       "      <th>Duration</th>\n",
       "      <th>Uncertainty.1</th>\n",
       "      <th>ReqTime</th>\n",
       "      <th>ReqDur</th>\n",
       "      <th>Stim Type</th>\n",
       "      <th>Pair Index</th>\n",
       "      <th>TimeSec</th>\n",
       "    </tr>\n",
       "  </thead>\n",
       "  <tbody>\n",
       "    <tr>\n",
       "      <th>2</th>\n",
       "      <td>10</td>\n",
       "      <td>0.0</td>\n",
       "      <td>Pulse</td>\n",
       "      <td>44</td>\n",
       "      <td>141327.0</td>\n",
       "      <td>141327.0</td>\n",
       "      <td>1.0</td>\n",
       "      <td>NaN</td>\n",
       "      <td>NaN</td>\n",
       "      <td>NaN</td>\n",
       "      <td>NaN</td>\n",
       "      <td>NaN</td>\n",
       "      <td>NaN</td>\n",
       "      <td>14.1327</td>\n",
       "    </tr>\n",
       "    <tr>\n",
       "      <th>3</th>\n",
       "      <td>10</td>\n",
       "      <td>1.0</td>\n",
       "      <td>Picture</td>\n",
       "      <td>fix</td>\n",
       "      <td>141445.0</td>\n",
       "      <td>0.0</td>\n",
       "      <td>1.0</td>\n",
       "      <td>5165.0</td>\n",
       "      <td>1.0</td>\n",
       "      <td>0.0</td>\n",
       "      <td>5000.0</td>\n",
       "      <td>other</td>\n",
       "      <td>0.0</td>\n",
       "      <td>14.1445</td>\n",
       "    </tr>\n",
       "    <tr>\n",
       "      <th>4</th>\n",
       "      <td>10</td>\n",
       "      <td>1.0</td>\n",
       "      <td>Picture</td>\n",
       "      <td>PICTURE_338.png,ITA,start,regalo</td>\n",
       "      <td>146610.0</td>\n",
       "      <td>5165.0</td>\n",
       "      <td>1.0</td>\n",
       "      <td>20159.0</td>\n",
       "      <td>1.0</td>\n",
       "      <td>5000.0</td>\n",
       "      <td>20000.0</td>\n",
       "      <td>other</td>\n",
       "      <td>0.0</td>\n",
       "      <td>14.6610</td>\n",
       "    </tr>\n",
       "    <tr>\n",
       "      <th>5</th>\n",
       "      <td>10</td>\n",
       "      <td>1.0</td>\n",
       "      <td>Port Input</td>\n",
       "      <td>2</td>\n",
       "      <td>161171.0</td>\n",
       "      <td>19726.0</td>\n",
       "      <td>1.0</td>\n",
       "      <td>NaN</td>\n",
       "      <td>NaN</td>\n",
       "      <td>NaN</td>\n",
       "      <td>NaN</td>\n",
       "      <td>NaN</td>\n",
       "      <td>NaN</td>\n",
       "      <td>16.1171</td>\n",
       "    </tr>\n",
       "    <tr>\n",
       "      <th>6</th>\n",
       "      <td>10</td>\n",
       "      <td>1.0</td>\n",
       "      <td>Pulse</td>\n",
       "      <td>44</td>\n",
       "      <td>161246.0</td>\n",
       "      <td>19801.0</td>\n",
       "      <td>1.0</td>\n",
       "      <td>NaN</td>\n",
       "      <td>NaN</td>\n",
       "      <td>NaN</td>\n",
       "      <td>NaN</td>\n",
       "      <td>NaN</td>\n",
       "      <td>NaN</td>\n",
       "      <td>16.1246</td>\n",
       "    </tr>\n",
       "  </tbody>\n",
       "</table>\n",
       "</div>"
      ],
      "text/plain": [
       "  Subject  Trial  Event Type                              Code      Time  \\\n",
       "2      10    0.0       Pulse                                44  141327.0   \n",
       "3      10    1.0     Picture                               fix  141445.0   \n",
       "4      10    1.0     Picture  PICTURE_338.png,ITA,start,regalo  146610.0   \n",
       "5      10    1.0  Port Input                                 2  161171.0   \n",
       "6      10    1.0       Pulse                                44  161246.0   \n",
       "\n",
       "      TTime  Uncertainty  Duration  Uncertainty.1  ReqTime   ReqDur Stim Type  \\\n",
       "2  141327.0          1.0       NaN            NaN      NaN      NaN       NaN   \n",
       "3       0.0          1.0    5165.0            1.0      0.0   5000.0     other   \n",
       "4    5165.0          1.0   20159.0            1.0   5000.0  20000.0     other   \n",
       "5   19726.0          1.0       NaN            NaN      NaN      NaN       NaN   \n",
       "6   19801.0          1.0       NaN            NaN      NaN      NaN       NaN   \n",
       "\n",
       "   Pair Index  TimeSec  \n",
       "2         NaN  14.1327  \n",
       "3         0.0  14.1445  \n",
       "4         0.0  14.6610  \n",
       "5         NaN  16.1171  \n",
       "6         NaN  16.1246  "
      ]
     },
     "execution_count": 5,
     "metadata": {},
     "output_type": "execute_result"
    }
   ],
   "source": [
    "db.head()"
   ]
  },
  {
   "cell_type": "code",
   "execution_count": 9,
   "metadata": {},
   "outputs": [],
   "source": [
    "for filename in file_list:\n",
    "    newfile = filename.replace('.log','')\n",
    "    newfile = newfile.replace('_81','')\n",
    "    newfile = newfile.replace('-','_')\n",
    "    db = pd.read_csv(filename, sep = ';', header = 2)\n",
    "    z = db[(db['Event Type'] == 'Pulse')].index[0]\n",
    "    db = db[z:-13]\n",
    "    #db = db.dropna()\n",
    "    db[\"TimeSec\"] = db[\"Time\"] / 10000\n",
    "    first_pulse = db.iloc[1,13]\n",
    "    db['TimePulse'] = db['TimeSec'] - first_pulse\n",
    "    filter_ITA_Stay = db['Code'].str.contains('ITA,Stay')\n",
    "    filter_ITA_Switch = db['Code'].str.contains('ITA,Switch')\n",
    "    filter_ENG_Stay = db['Code'].str.contains('ENG,Stay')\n",
    "    filter_ENG_Switch = db['Code'].str.contains('ENG,Switch')\n",
    "    ITA_Stay = db.loc[filter_ITA_Stay,'TimePulse']\n",
    "    ITA_Switch = db.loc[filter_ITA_Switch,'TimePulse']\n",
    "    ENG_Stay = db.loc[filter_ENG_Stay,'TimePulse']\n",
    "    ENG_Switch = db.loc[filter_ENG_Switch,'TimePulse']\n",
    "    ITA_Stay.to_csv(f\"{newfile}_ita_stay.txt\", index = False, header = False)\n",
    "    ITA_Switch.to_csv(f\"{newfile}_ita_switch.txt\", index = False, header = False)\n",
    "    ENG_Stay.to_csv(f\"{newfile}_eng_stay.txt\", index = False, header = False)\n",
    "    ENG_Switch.to_csv(f\"{newfile}_eng_switch.txt\", index = False, header = False)"
   ]
  },
  {
   "cell_type": "markdown",
   "metadata": {},
   "source": [
    "---"
   ]
  }
 ],
 "metadata": {
  "kernelspec": {
   "display_name": "Python 3",
   "language": "python",
   "name": "python3"
  },
  "language_info": {
   "codemirror_mode": {
    "name": "ipython",
    "version": 3
   },
   "file_extension": ".py",
   "mimetype": "text/x-python",
   "name": "python",
   "nbconvert_exporter": "python",
   "pygments_lexer": "ipython3",
   "version": "3.8.5"
  }
 },
 "nbformat": 4,
 "nbformat_minor": 4
}
